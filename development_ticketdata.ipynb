{
 "cells": [
  {
   "cell_type": "code",
   "execution_count": 2,
   "metadata": {},
   "outputs": [],
   "source": [
    "#import dependencies \n",
    "import pandas as pd \n",
    "import requests \n",
    "import json \n",
    "import snowflake.connector\n",
    "import config \n",
    "import os \n",
    "import time \n",
    "import numpy as np\n",
    "import functions "
   ]
  },
  {
   "cell_type": "code",
   "execution_count": 6,
   "metadata": {},
   "outputs": [],
   "source": [
    "#cereate connection to specigic database/schema \n",
    "con = snowflake.connector.connect(\n",
    "    user=config.keys['user'],\n",
    "    password=config.keys['password'],\n",
    "    account=config.keys['account'],\n",
    "    warehouse = 'WAREHOUSE_BLUE',\n",
    "    database  = 'DATABASE_BLUE',\n",
    "    schema = 'SCHEMA_BLUE'\n",
    ")"
   ]
  },
  {
   "cell_type": "code",
   "execution_count": 1,
   "metadata": {},
   "outputs": [],
   "source": [
    "#page through \n",
    "#get dataset size then get how many pages \n",
    "#keep track of pages have acount to reference "
   ]
  },
  {
   "cell_type": "markdown",
   "metadata": {},
   "source": [
    "https://data.cityofnewyork.us/City-Government/Parking-Violations-Issued-Fiscal-Year-2023/869v-vr48"
   ]
  },
  {
   "cell_type": "code",
   "execution_count": 9,
   "metadata": {},
   "outputs": [],
   "source": [
    "samp1 = requests.get(f'https://data.cityofnewyork.us/resource/869v-vr48.json?$limit=10')"
   ]
  },
  {
   "cell_type": "code",
   "execution_count": 5,
   "metadata": {},
   "outputs": [],
   "source": [
    "request_limit = 10\n",
    "request_offset = 0\n",
    "samp = requests.get(f'https://data.cityofnewyork.us/resource/869v-vr48.json?$limit={request_limit}&$offset={request_offset}&$order=summons_number')"
   ]
  },
  {
   "cell_type": "code",
   "execution_count": 13,
   "metadata": {},
   "outputs": [],
   "source": [
    "request_limit = 10\n",
    "request_offset = 5\n",
    "samp2 = requests.get(f'https://data.cityofnewyork.us/resource/869v-vr48.json?$limit={request_limit}&$offset={request_offset}&$order=summons_number')"
   ]
  },
  {
   "cell_type": "markdown",
   "metadata": {},
   "source": [
    "- the offset needs to increase by whatever the limit is \n",
    "- need to get dataset size "
   ]
  },
  {
   "cell_type": "code",
   "execution_count": 14,
   "metadata": {},
   "outputs": [],
   "source": [
    "df_samp2 = pd.DataFrame(samp2.json())"
   ]
  },
  {
   "cell_type": "code",
   "execution_count": 11,
   "metadata": {},
   "outputs": [],
   "source": [
    "df_samp1 = pd.DataFrame(samp.json())"
   ]
  },
  {
   "cell_type": "code",
   "execution_count": 23,
   "metadata": {},
   "outputs": [
    {
     "name": "stdout",
     "output_type": "stream",
     "text": [
      "True\n",
      "True\n",
      "True\n",
      "True\n",
      "True\n"
     ]
    }
   ],
   "source": [
    "#testing offset \n",
    "print(df_samp2.iloc[0].summons_number == df_samp1.iloc[5].summons_number)\n",
    "print(df_samp2.iloc[1].summons_number == df_samp1.iloc[6].summons_number)\n",
    "print(df_samp2.iloc[2].summons_number == df_samp1.iloc[7].summons_number)\n",
    "print(df_samp2.iloc[3].summons_number == df_samp1.iloc[8].summons_number)\n",
    "print(df_samp2.iloc[4].summons_number == df_samp1.iloc[9].summons_number)"
   ]
  },
  {
   "cell_type": "code",
   "execution_count": 7,
   "metadata": {},
   "outputs": [
    {
     "data": {
      "text/plain": [
       "<snowflake.connector.connection.SnowflakeConnection at 0x2963eeacd88>"
      ]
     },
     "execution_count": 7,
     "metadata": {},
     "output_type": "execute_result"
    }
   ],
   "source": [
    "#total number of pagees for dataset\n",
    "pages = \n",
    "\n",
    "#current / latest dataset page number to be requested / retrieved \n",
    "page_num = 0"
   ]
  }
 ],
 "metadata": {
  "kernelspec": {
   "display_name": "PythonData",
   "language": "python",
   "name": "pythondata"
  },
  "language_info": {
   "codemirror_mode": {
    "name": "ipython",
    "version": 3
   },
   "file_extension": ".py",
   "mimetype": "text/x-python",
   "name": "python",
   "nbconvert_exporter": "python",
   "pygments_lexer": "ipython3",
   "version": "3.7.11"
  }
 },
 "nbformat": 4,
 "nbformat_minor": 4
}
