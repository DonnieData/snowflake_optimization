{
 "cells": [
  {
   "cell_type": "code",
   "execution_count": 92,
   "metadata": {},
   "outputs": [],
   "source": [
    "#import dependencies \n",
    "import pandas as pd \n",
    "import requests \n",
    "import json \n",
    "import snowflake.connector\n",
    "import config \n",
    "import os \n",
    "import time "
   ]
  },
  {
   "cell_type": "code",
   "execution_count": 110,
   "metadata": {},
   "outputs": [],
   "source": [
    "#cereate connection to specigic database/schema \n",
    "con = snowflake.connector.connect(\n",
    "    user=config.keys['user'],\n",
    "    password=config.keys['password'],\n",
    "    account=config.keys['account'],\n",
    "    warehouse = 'WAREHOUSE_BLUE',\n",
    "    database  = 'DATABASE_BLUE',\n",
    "    schema = 'SCHEMA_BLUE'\n",
    ")"
   ]
  },
  {
   "cell_type": "code",
   "execution_count": 4,
   "metadata": {},
   "outputs": [
    {
     "data": {
      "text/plain": [
       "<snowflake.connector.cursor.SnowflakeCursor at 0x250d1c4a508>"
      ]
     },
     "execution_count": 4,
     "metadata": {},
     "output_type": "execute_result"
    }
   ],
   "source": [
    "create_table_query = (\n",
    "    \"\"\"create or replace TABLE DATABASE_BLUE.SCHEMA_BLUE.BLUE4 (\n",
    "\t\"fiscal_year\" VARCHAR(50),\n",
    "\t\"payroll_number\" VARCHAR(50),\n",
    "\t\"agency_name\" VARCHAR(50),\n",
    "\t\"last_name\" VARCHAR(50),\n",
    "\t\"first_name\" VARCHAR(50),\n",
    "\t\"mid_init\" VARCHAR(50),\n",
    "\t\"agency_start_date\" VARCHAR(50),\n",
    "\t\"work_location_borough\" VARCHAR(50),\n",
    "\t\"title_description\" VARCHAR(50),\n",
    "\t\"leave_status_as_of_june_30\" VARCHAR(50),\n",
    "\t\"base_salary\" VARCHAR(50),\n",
    "\t\"pay_basis\" VARCHAR(50),\n",
    "\t\"regular_hours\" VARCHAR(50),\n",
    "\t\"regular_gross_paid\" VARCHAR(50),\n",
    "\t\"ot_hours\" VARCHAR(50),\n",
    "\t\"total_ot_paid\" VARCHAR(50),\n",
    "\t\"total_other_pay\" VARCHAR(50)\n",
    ");\"\"\" \n",
    ") \n",
    "\n",
    "# execute\n",
    "con.cursor().execute(create_table_query)"
   ]
  },
  {
   "cell_type": "code",
   "execution_count": 66,
   "metadata": {},
   "outputs": [
    {
     "data": {
      "text/plain": [
       "'5662713'"
      ]
     },
     "execution_count": 66,
     "metadata": {},
     "output_type": "execute_result"
    }
   ],
   "source": [
    "#get dataset info for funciton \n",
    "#get row count for dataset \n",
    "data_size = requests.get(\"https://data.cityofnewyork.us/resource/k397-673e.json?$select=count(*)\")\n",
    "data_size.json()\n",
    "data_size = data_size.json()[0]['count']\n",
    "data_size"
   ]
  },
  {
   "cell_type": "code",
   "execution_count": null,
   "metadata": {},
   "outputs": [],
   "source": [
    "#get years in dataset\n",
    "years = requests.get(\"https://data.cityofnewyork.us/resource/k397-673e.json?$select=distinct fiscal_year\")\n",
    "years = years.json()\n",
    "years = [i['fiscal_year'] for i in years]\n",
    "years.sort()"
   ]
  },
  {
   "cell_type": "code",
   "execution_count": 67,
   "metadata": {},
   "outputs": [
    {
     "data": {
      "text/plain": [
       "'5662713'"
      ]
     },
     "execution_count": 67,
     "metadata": {},
     "output_type": "execute_result"
    }
   ],
   "source": [
    "data_size"
   ]
  },
  {
   "cell_type": "code",
   "execution_count": 77,
   "metadata": {},
   "outputs": [
    {
     "data": {
      "text/plain": [
       "200"
      ]
     },
     "execution_count": 77,
     "metadata": {},
     "output_type": "execute_result"
    }
   ],
   "source": [
    "response.status_code"
   ]
  },
  {
   "cell_type": "code",
   "execution_count": 83,
   "metadata": {},
   "outputs": [
    {
     "name": "stdout",
     "output_type": "stream",
     "text": [
      "3\n"
     ]
    }
   ],
   "source": [
    "print(3)"
   ]
  },
  {
   "cell_type": "code",
   "execution_count": 112,
   "metadata": {},
   "outputs": [
    {
     "name": "stdout",
     "output_type": "stream",
     "text": [
      "2014:rows:300\n",
      "2015:rows:300\n",
      "2016:rows:300\n",
      "2017:rows:300\n",
      "2018:rows:300\n",
      "2019:rows:300\n",
      "2020:rows:300\n",
      "2021:rows:300\n",
      "2022:rows:300\n",
      "2023:rows:300\n"
     ]
    }
   ],
   "source": [
    "for i in years: \n",
    "    #define function variables \n",
    "    url = f\"https://data.cityofnewyork.us/resource/k397-673e.json?$limit={300}&$where=fiscal_year={i}\"\n",
    "    #using dataset size as arbitrary limit\n",
    "    response = requests.get(url)\n",
    "    \n",
    "    if response.status_code != 200:\n",
    "        break \n",
    "        \n",
    "    file_path = f'temp/{i}_data_sample.csv'\n",
    "    #save data to temp folder as csv    \n",
    "    dataframe = pd.DataFrame(response.json())\n",
    "    dataframe.to_csv(file_path, index=False)   \n",
    "    \n",
    "    print(f'{i}:rows:{len(dataframe)}')\n",
    "    \n",
    "    #stage file in snowflake \n",
    "    con.cursor().execute(f'PUT file://{file_path}* @%BLUE4')\n",
    "    \n",
    "    #free up memory, clear out variable and delete temp file \n",
    "    dataframe = None\n",
    "    if os.path.isfile(file_path):\n",
    "        os.remove(file_path)\n",
    "    \n",
    "    #\n",
    "    time.sleep(10)"
   ]
  },
  {
   "cell_type": "code",
   "execution_count": 107,
   "metadata": {},
   "outputs": [],
   "source": [
    "#include \"/\" at the end of dir path \n",
    "def clear_dir(dir_path): \n",
    "    for i in os.listdir(dir_path):\n",
    "        os.remove(f\"{dir_path}{i}\")\n",
    "    "
   ]
  },
  {
   "cell_type": "code",
   "execution_count": 111,
   "metadata": {},
   "outputs": [],
   "source": [
    "clear_dir('temp/')"
   ]
  },
  {
   "cell_type": "code",
   "execution_count": null,
   "metadata": {},
   "outputs": [],
   "source": []
  }
 ],
 "metadata": {
  "kernelspec": {
   "display_name": "PythonData",
   "language": "python",
   "name": "pythondata"
  },
  "language_info": {
   "codemirror_mode": {
    "name": "ipython",
    "version": 3
   },
   "file_extension": ".py",
   "mimetype": "text/x-python",
   "name": "python",
   "nbconvert_exporter": "python",
   "pygments_lexer": "ipython3",
   "version": "3.7.11"
  }
 },
 "nbformat": 4,
 "nbformat_minor": 4
}
