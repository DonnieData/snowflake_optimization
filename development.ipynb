{
 "cells": [
  {
   "cell_type": "code",
   "execution_count": 3,
   "metadata": {},
   "outputs": [],
   "source": [
    "#import dependencies \n",
    "import pandas as pd \n",
    "import requests \n",
    "import json \n",
    "import snowflake.connector\n",
    "import config \n",
    "import os \n",
    "import time "
   ]
  },
  {
   "cell_type": "code",
   "execution_count": 2,
   "metadata": {},
   "outputs": [],
   "source": [
    "#cereate connection to specigic database/schema \n",
    "con = snowflake.connector.connect(\n",
    "    user=config.keys['user'],\n",
    "    password=config.keys['password'],\n",
    "    account=config.keys['account'],\n",
    "    warehouse = 'WAREHOUSE_BLUE',\n",
    "    database  = 'DATABASE_BLUE',\n",
    "    schema = 'SCHEMA_BLUE'\n",
    ")"
   ]
  },
  {
   "cell_type": "code",
   "execution_count": null,
   "metadata": {},
   "outputs": [],
   "source": []
  },
  {
   "cell_type": "code",
   "execution_count": 4,
   "metadata": {},
   "outputs": [
    {
     "data": {
      "text/plain": [
       "<snowflake.connector.cursor.SnowflakeCursor at 0x250d1c4a508>"
      ]
     },
     "execution_count": 4,
     "metadata": {},
     "output_type": "execute_result"
    }
   ],
   "source": [
    "create_table_query = (\n",
    "    \"\"\"create or replace TABLE DATABASE_BLUE.SCHEMA_BLUE.BLUE4 (\n",
    "\t\"fiscal_year\" VARCHAR(50),\n",
    "\t\"payroll_number\" VARCHAR(50),\n",
    "\t\"agency_name\" VARCHAR(50),\n",
    "\t\"last_name\" VARCHAR(50),\n",
    "\t\"first_name\" VARCHAR(50),\n",
    "\t\"mid_init\" VARCHAR(50),\n",
    "\t\"agency_start_date\" VARCHAR(50),\n",
    "\t\"work_location_borough\" VARCHAR(50),\n",
    "\t\"title_description\" VARCHAR(50),\n",
    "\t\"leave_status_as_of_june_30\" VARCHAR(50),\n",
    "\t\"base_salary\" VARCHAR(50),\n",
    "\t\"pay_basis\" VARCHAR(50),\n",
    "\t\"regular_hours\" VARCHAR(50),\n",
    "\t\"regular_gross_paid\" VARCHAR(50),\n",
    "\t\"ot_hours\" VARCHAR(50),\n",
    "\t\"total_ot_paid\" VARCHAR(50),\n",
    "\t\"total_other_pay\" VARCHAR(50)\n",
    ");\"\"\" \n",
    ") \n",
    "\n",
    "# execute\n",
    "con.cursor().execute(create_table_query)"
   ]
  },
  {
   "cell_type": "code",
   "execution_count": 5,
   "metadata": {},
   "outputs": [],
   "source": [
    "#get dataset info for funciton \n",
    "#get row count for dataset \n",
    "data_sample = requests.get(\"https://data.cityofnewyork.us/resource/k397-673e.json?$select=count(*)\")\n",
    "data_sample.json()\n",
    "data_size = data_sample.json()[0]['count']\n",
    "sample_df = pd.DataFrame(data_sample)"
   ]
  },
  {
   "cell_type": "code",
   "execution_count": 13,
   "metadata": {},
   "outputs": [
    {
     "data": {
      "text/plain": [
       "{'Server': 'nginx', 'Date': 'Sun, 24 Dec 2023 19:58:28 GMT', 'Content-Type': 'application/json;charset=utf-8', 'Transfer-Encoding': 'chunked', 'Connection': 'keep-alive', 'Access-Control-Allow-Origin': '*', 'ETag': '\"YWxwaGEuNzQzMjJfNV8xNTN2TE4tc09USlAzbWFsZV9IdGtSckJEMnM4OEE--gziB6woCHGSBIxSMEUEpO0mokJWAVY---gzip\"', 'X-SODA2-Fields': '[\"count\"]', 'X-SODA2-Types': '[\"number\"]', 'X-SODA2-Data-Out-Of-Date': 'false', 'X-SODA2-Truth-Last-Modified': 'Tue, 28 Nov 2023 17:52:54 GMT', 'X-SODA2-Secondary-Last-Modified': 'Tue, 28 Nov 2023 17:52:54 GMT', 'Last-Modified': 'Tue, 28 Nov 2023 17:52:54 GMT', 'Vary': 'Accept-Encoding', 'Content-Encoding': 'gzip', 'Age': '0', 'X-Socrata-Region': 'aws-us-east-1-fedramp-prod', 'Strict-Transport-Security': 'max-age=31536000; includeSubDomains', 'X-Socrata-RequestId': '731331d0e88656c29bc7928849b82c6d'}"
      ]
     },
     "execution_count": 13,
     "metadata": {},
     "output_type": "execute_result"
    }
   ],
   "source": [
    "data_sample.headers"
   ]
  },
  {
   "cell_type": "code",
   "execution_count": null,
   "metadata": {},
   "outputs": [],
   "source": [
    "#get years in dataset\n",
    "years = requests.get(\"https://data.cityofnewyork.us/resource/k397-673e.json?$select=distinct fiscal_year\")\n",
    "years = years.json()\n",
    "years = [i['fiscal_year'] for i in years]\n",
    "years.sort()"
   ]
  },
  {
   "cell_type": "code",
   "execution_count": 67,
   "metadata": {},
   "outputs": [
    {
     "data": {
      "text/plain": [
       "'5662713'"
      ]
     },
     "execution_count": 67,
     "metadata": {},
     "output_type": "execute_result"
    }
   ],
   "source": [
    "data_size"
   ]
  },
  {
   "cell_type": "code",
   "execution_count": 77,
   "metadata": {},
   "outputs": [
    {
     "data": {
      "text/plain": [
       "200"
      ]
     },
     "execution_count": 77,
     "metadata": {},
     "output_type": "execute_result"
    }
   ],
   "source": [
    "response.status_code"
   ]
  },
  {
   "cell_type": "code",
   "execution_count": 83,
   "metadata": {},
   "outputs": [
    {
     "name": "stdout",
     "output_type": "stream",
     "text": [
      "3\n"
     ]
    }
   ],
   "source": [
    "print(3)"
   ]
  },
  {
   "cell_type": "code",
   "execution_count": 125,
   "metadata": {},
   "outputs": [
    {
     "name": "stdout",
     "output_type": "stream",
     "text": [
      "s\n",
      "i\n",
      "m\n",
      "p\n"
     ]
    }
   ],
   "source": [
    "for i in 'simp':\n",
    "    \n",
    "    print(i)"
   ]
  },
  {
   "cell_type": "code",
   "execution_count": 127,
   "metadata": {},
   "outputs": [
    {
     "name": "stdout",
     "output_type": "stream",
     "text": [
      "16\n",
      "2014:rows:300\n",
      "16\n",
      "2015:rows:300\n",
      "16\n",
      "2016:rows:300\n",
      "16\n",
      "2017:rows:300\n",
      "17\n",
      "2018:rows:300\n",
      "17\n",
      "2019:rows:300\n",
      "17\n",
      "2020:rows:300\n",
      "17\n",
      "2021:rows:300\n",
      "17\n",
      "2022:rows:300\n",
      "17\n",
      "2023:rows:300\n"
     ]
    }
   ],
   "source": [
    "for i in years: \n",
    "    #define function variables \n",
    "    url = f\"https://data.cityofnewyork.us/resource/k397-673e.json?$limit={300}&$where=fiscal_year={i}\"\n",
    "    #using dataset size as arbitrary limit\n",
    "    response = requests.get(url)\n",
    "    \n",
    "    if response.status_code != 200:\n",
    "        break \n",
    "        \n",
    "    file_path = f'temp/{i}_data_sample.csv'\n",
    "    #save data to temp folder as csv    \n",
    "    dataframe = pd.DataFrame(response.json())\n",
    "    dataframe.to_csv(file_path, index=False)   \n",
    "    \n",
    "    print(len(dataframe.columns))\n",
    "    print(f'{i}:rows:{len(dataframe)}')\n",
    "    \n",
    "    #stage file in snowflake \n",
    "    #con.cursor().execute(f'PUT file://{file_path}* @%BLUE4')\n",
    "    \n",
    "    #free up memory, clear out variable and delete temp file \n",
    "    dataframe = None\n",
    "    #if os.path.isfile(file_path):\n",
    "     #   os.remove(file_path)\n",
    "    \n",
    "    #\n",
    "    #time.sleep(10)"
   ]
  },
  {
   "cell_type": "code",
   "execution_count": 130,
   "metadata": {},
   "outputs": [
    {
     "ename": "SyntaxError",
     "evalue": "invalid syntax (<ipython-input-130-3e06f7808ddd>, line 1)",
     "output_type": "error",
     "traceback": [
      "\u001b[1;36m  File \u001b[1;32m\"<ipython-input-130-3e06f7808ddd>\"\u001b[1;36m, line \u001b[1;32m1\u001b[0m\n\u001b[1;33m    - column number changes\u001b[0m\n\u001b[1;37m                  ^\u001b[0m\n\u001b[1;31mSyntaxError\u001b[0m\u001b[1;31m:\u001b[0m invalid syntax\n"
     ]
    }
   ],
   "source": [
    "- column number changes \n",
    "need to have that column ready to be set as null when no inserts on it \n",
    "- need to reorder dataframes before saving to make sure order matches table, AND add blank column if does not exist so it matches fully ?\n"
   ]
  },
  {
   "cell_type": "code",
   "execution_count": null,
   "metadata": {},
   "outputs": [],
   "source": []
  },
  {
   "cell_type": "code",
   "execution_count": 117,
   "metadata": {},
   "outputs": [],
   "source": [
    "df16 = pd.read_csv('temp/2015_data_sample.csv')"
   ]
  },
  {
   "cell_type": "code",
   "execution_count": 114,
   "metadata": {},
   "outputs": [],
   "source": [
    "df17 = pd.read_csv('temp/2017_data_sample.csv')"
   ]
  },
  {
   "cell_type": "code",
   "execution_count": 128,
   "metadata": {},
   "outputs": [
    {
     "data": {
      "text/plain": [
       "16"
      ]
     },
     "execution_count": 128,
     "metadata": {},
     "output_type": "execute_result"
    }
   ],
   "source": [
    "len(df16.columns.to_list())"
   ]
  },
  {
   "cell_type": "code",
   "execution_count": 129,
   "metadata": {},
   "outputs": [
    {
     "data": {
      "text/plain": [
       "16"
      ]
     },
     "execution_count": 129,
     "metadata": {},
     "output_type": "execute_result"
    }
   ],
   "source": [
    "len(df17.columns.to_list())"
   ]
  },
  {
   "cell_type": "code",
   "execution_count": 105,
   "metadata": {},
   "outputs": [
    {
     "data": {
      "text/plain": [
       "[]"
      ]
     },
     "execution_count": 105,
     "metadata": {},
     "output_type": "execute_result"
    }
   ],
   "source": [
    "os.listdir('temp/')"
   ]
  },
  {
   "cell_type": "code",
   "execution_count": 107,
   "metadata": {},
   "outputs": [],
   "source": [
    "#include \"/\" at the end of dir path \n",
    "def clear_dir(dir_path): \n",
    "    for i in os.listdir(dir_path):\n",
    "        os.remove(f\"{dir_path}{i}\")\n",
    "    "
   ]
  },
  {
   "cell_type": "code",
   "execution_count": 111,
   "metadata": {},
   "outputs": [],
   "source": [
    "clear_dir('temp/')"
   ]
  },
  {
   "cell_type": "code",
   "execution_count": null,
   "metadata": {},
   "outputs": [],
   "source": []
  }
 ],
 "metadata": {
  "kernelspec": {
   "display_name": "PythonData",
   "language": "python",
   "name": "pythondata"
  },
  "language_info": {
   "codemirror_mode": {
    "name": "ipython",
    "version": 3
   },
   "file_extension": ".py",
   "mimetype": "text/x-python",
   "name": "python",
   "nbconvert_exporter": "python",
   "pygments_lexer": "ipython3",
   "version": "3.7.11"
  }
 },
 "nbformat": 4,
 "nbformat_minor": 4
}
