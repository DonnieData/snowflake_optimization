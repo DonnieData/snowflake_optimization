{
 "cells": [
  {
   "cell_type": "code",
   "execution_count": 3,
   "metadata": {},
   "outputs": [],
   "source": [
    "#import dependencies \n",
    "import pandas as pd \n",
    "import requests \n",
    "import json \n",
    "import snowflake.connector\n",
    "import config \n",
    "import os \n",
    "import time "
   ]
  },
  {
   "cell_type": "code",
   "execution_count": 2,
   "metadata": {},
   "outputs": [],
   "source": [
    "#cereate connection to specigic database/schema \n",
    "con = snowflake.connector.connect(\n",
    "    user=config.keys['user'],\n",
    "    password=config.keys['password'],\n",
    "    account=config.keys['account'],\n",
    "    warehouse = 'WAREHOUSE_BLUE',\n",
    "    database  = 'DATABASE_BLUE',\n",
    "    schema = 'SCHEMA_BLUE'\n",
    ")"
   ]
  },
  {
   "cell_type": "code",
   "execution_count": null,
   "metadata": {},
   "outputs": [],
   "source": []
  },
  {
   "cell_type": "code",
   "execution_count": 4,
   "metadata": {},
   "outputs": [
    {
     "data": {
      "text/plain": [
       "<snowflake.connector.cursor.SnowflakeCursor at 0x250d1c4a508>"
      ]
     },
     "execution_count": 4,
     "metadata": {},
     "output_type": "execute_result"
    }
   ],
   "source": [
    "create_table_query = (\n",
    "    \"\"\"create or replace TABLE DATABASE_BLUE.SCHEMA_BLUE.BLUE4 (\n",
    "\t\"fiscal_year\" VARCHAR(50),\n",
    "\t\"payroll_number\" VARCHAR(50),\n",
    "\t\"agency_name\" VARCHAR(50),\n",
    "\t\"last_name\" VARCHAR(50),\n",
    "\t\"first_name\" VARCHAR(50),\n",
    "\t\"mid_init\" VARCHAR(50),\n",
    "\t\"agency_start_date\" VARCHAR(50),\n",
    "\t\"work_location_borough\" VARCHAR(50),\n",
    "\t\"title_description\" VARCHAR(50),\n",
    "\t\"leave_status_as_of_june_30\" VARCHAR(50),\n",
    "\t\"base_salary\" VARCHAR(50),\n",
    "\t\"pay_basis\" VARCHAR(50),\n",
    "\t\"regular_hours\" VARCHAR(50),\n",
    "\t\"regular_gross_paid\" VARCHAR(50),\n",
    "\t\"ot_hours\" VARCHAR(50),\n",
    "\t\"total_ot_paid\" VARCHAR(50),\n",
    "\t\"total_other_pay\" VARCHAR(50)\n",
    ");\"\"\" \n",
    ") \n",
    "\n",
    "# execute\n",
    "con.cursor().execute(create_table_query)"
   ]
  },
  {
   "cell_type": "code",
   "execution_count": null,
   "metadata": {},
   "outputs": [],
   "source": []
  },
  {
   "cell_type": "code",
   "execution_count": 21,
   "metadata": {},
   "outputs": [
    {
     "data": {
      "text/plain": [
       "[{'count': '5662713'}]"
      ]
     },
     "execution_count": 21,
     "metadata": {},
     "output_type": "execute_result"
    }
   ],
   "source": [
    "#get dataset info for funciton \n",
    "#get row count for dataset \n",
    "r = requests.get(\"https://data.cityofnewyork.us/resource/k397-673e.json?$select=count(*)\")\n",
    "r.json()"
   ]
  },
  {
   "cell_type": "code",
   "execution_count": 23,
   "metadata": {},
   "outputs": [
    {
     "data": {
      "text/plain": [
       "'5662713'"
      ]
     },
     "execution_count": 23,
     "metadata": {},
     "output_type": "execute_result"
    }
   ],
   "source": [
    "#get dataset info for funciton \n",
    "#get row count for dataset \n",
    "data_size = requests.get(\"https://data.cityofnewyork.us/resource/k397-673e.json?$select=count(*)\")\n",
    "data_size.json()\n",
    "data_size = data_sample.json()[0]['count']\n",
    "data_size"
   ]
  },
  {
   "cell_type": "code",
   "execution_count": 50,
   "metadata": {},
   "outputs": [],
   "source": [
    "data_sample = requests.get(\"https://data.cityofnewyork.us/resource/k397-673e.json\")"
   ]
  },
  {
   "cell_type": "code",
   "execution_count": null,
   "metadata": {},
   "outputs": [],
   "source": [
    "#check for missing column , if misisng then addcolumn and leave null"
   ]
  },
  {
   "cell_type": "code",
   "execution_count": 57,
   "metadata": {},
   "outputs": [],
   "source": [
    "match_test = ['fiscal_year', 'payroll_number', 'agency_name', 'last_name',\n",
    "       'first_name', 'mid_init', 'agency_start_date', 'work_location_borough',\n",
    "       'title_description', 'leave_status_as_of_june_30']"
   ]
  },
  {
   "cell_type": "code",
   "execution_count": 58,
   "metadata": {},
   "outputs": [],
   "source": [
    "cols_order = ['fiscal_year', 'payroll_number', 'agency_name', 'last_name',\n",
    "       'first_name', 'mid_init', 'agency_start_date', 'work_location_borough',\n",
    "       'title_description', 'leave_status_as_of_june_30', 'base_salary',\n",
    "       'pay_basis', 'regular_hours', 'regular_gross_paid', 'ot_hours',\n",
    "       'total_ot_paid', 'total_other_pay']"
   ]
  },
  {
   "cell_type": "code",
   "execution_count": 60,
   "metadata": {},
   "outputs": [
    {
     "data": {
      "text/plain": [
       "['base_salary',\n",
       " 'pay_basis',\n",
       " 'regular_hours',\n",
       " 'regular_gross_paid',\n",
       " 'ot_hours',\n",
       " 'total_ot_paid',\n",
       " 'total_other_pay']"
      ]
     },
     "execution_count": 60,
     "metadata": {},
     "output_type": "execute_result"
    }
   ],
   "source": [
    "[i for i in cols_order if i not in match_test]"
   ]
  },
  {
   "cell_type": "code",
   "execution_count": 28,
   "metadata": {},
   "outputs": [
    {
     "data": {
      "text/html": [
       "<div>\n",
       "<style scoped>\n",
       "    .dataframe tbody tr th:only-of-type {\n",
       "        vertical-align: middle;\n",
       "    }\n",
       "\n",
       "    .dataframe tbody tr th {\n",
       "        vertical-align: top;\n",
       "    }\n",
       "\n",
       "    .dataframe thead th {\n",
       "        text-align: right;\n",
       "    }\n",
       "</style>\n",
       "<table border=\"1\" class=\"dataframe\">\n",
       "  <thead>\n",
       "    <tr style=\"text-align: right;\">\n",
       "      <th></th>\n",
       "      <th>fiscal_year</th>\n",
       "      <th>payroll_number</th>\n",
       "      <th>agency_name</th>\n",
       "      <th>last_name</th>\n",
       "      <th>first_name</th>\n",
       "      <th>agency_start_date</th>\n",
       "      <th>work_location_borough</th>\n",
       "      <th>title_description</th>\n",
       "      <th>leave_status_as_of_june_30</th>\n",
       "      <th>base_salary</th>\n",
       "      <th>pay_basis</th>\n",
       "      <th>regular_hours</th>\n",
       "      <th>regular_gross_paid</th>\n",
       "      <th>ot_hours</th>\n",
       "      <th>total_ot_paid</th>\n",
       "      <th>total_other_pay</th>\n",
       "      <th>mid_init</th>\n",
       "    </tr>\n",
       "  </thead>\n",
       "  <tbody>\n",
       "    <tr>\n",
       "      <th>0</th>\n",
       "      <td>2023</td>\n",
       "      <td>67</td>\n",
       "      <td>ADMIN FOR CHILDREN'S SVCS</td>\n",
       "      <td>AWOTOYE</td>\n",
       "      <td>FLORENCE</td>\n",
       "      <td>1996-06-23T00:00:00.000</td>\n",
       "      <td>MANHATTAN</td>\n",
       "      <td>CHILD PROTECTIVE SPECIALIST SUPERVISOR</td>\n",
       "      <td>ACTIVE</td>\n",
       "      <td>94469.00</td>\n",
       "      <td>per Annum</td>\n",
       "      <td>1820.00</td>\n",
       "      <td>94582.80</td>\n",
       "      <td>460.50</td>\n",
       "      <td>31912.10</td>\n",
       "      <td>25792.84</td>\n",
       "      <td>NaN</td>\n",
       "    </tr>\n",
       "    <tr>\n",
       "      <th>1</th>\n",
       "      <td>2023</td>\n",
       "      <td>67</td>\n",
       "      <td>ADMIN FOR CHILDREN'S SVCS</td>\n",
       "      <td>BRAND</td>\n",
       "      <td>MIKHAIL</td>\n",
       "      <td>1997-02-03T00:00:00.000</td>\n",
       "      <td>MANHATTAN</td>\n",
       "      <td>COMPUTER SPECIALIST</td>\n",
       "      <td>CEASED</td>\n",
       "      <td>91603.00</td>\n",
       "      <td>per Annum</td>\n",
       "      <td>0.00</td>\n",
       "      <td>0.00</td>\n",
       "      <td>0.00</td>\n",
       "      <td>0.00</td>\n",
       "      <td>3.04</td>\n",
       "      <td>NaN</td>\n",
       "    </tr>\n",
       "    <tr>\n",
       "      <th>2</th>\n",
       "      <td>2023</td>\n",
       "      <td>67</td>\n",
       "      <td>ADMIN FOR CHILDREN'S SVCS</td>\n",
       "      <td>ALLEN</td>\n",
       "      <td>CRYSTAL</td>\n",
       "      <td>1999-09-13T00:00:00.000</td>\n",
       "      <td>BROOKLYN</td>\n",
       "      <td>CHILD PROTECTIVE SPECIALIST</td>\n",
       "      <td>ACTIVE</td>\n",
       "      <td>66022.00</td>\n",
       "      <td>per Annum</td>\n",
       "      <td>1820.00</td>\n",
       "      <td>66103.17</td>\n",
       "      <td>67.00</td>\n",
       "      <td>2658.28</td>\n",
       "      <td>15366.57</td>\n",
       "      <td>NaN</td>\n",
       "    </tr>\n",
       "    <tr>\n",
       "      <th>3</th>\n",
       "      <td>2023</td>\n",
       "      <td>67</td>\n",
       "      <td>ADMIN FOR CHILDREN'S SVCS</td>\n",
       "      <td>AWOLOWO</td>\n",
       "      <td>STOYANN</td>\n",
       "      <td>2023-02-27T00:00:00.000</td>\n",
       "      <td>BROOKLYN</td>\n",
       "      <td>CHILD PROTECTIVE SPECIALIST</td>\n",
       "      <td>ACTIVE</td>\n",
       "      <td>55463.00</td>\n",
       "      <td>per Annum</td>\n",
       "      <td>560.00</td>\n",
       "      <td>15697.02</td>\n",
       "      <td>41.75</td>\n",
       "      <td>1465.28</td>\n",
       "      <td>3008.25</td>\n",
       "      <td>E</td>\n",
       "    </tr>\n",
       "    <tr>\n",
       "      <th>4</th>\n",
       "      <td>2023</td>\n",
       "      <td>67</td>\n",
       "      <td>ADMIN FOR CHILDREN'S SVCS</td>\n",
       "      <td>BENNETT-SIMON</td>\n",
       "      <td>HALLIE</td>\n",
       "      <td>2021-09-13T00:00:00.000</td>\n",
       "      <td>MANHATTAN</td>\n",
       "      <td>PRINCIPAL ADMINISTRATIVE ASSOCIATE -  NON SUPVR</td>\n",
       "      <td>ACTIVE</td>\n",
       "      <td>61105.00</td>\n",
       "      <td>per Annum</td>\n",
       "      <td>1820.00</td>\n",
       "      <td>60937.50</td>\n",
       "      <td>0.00</td>\n",
       "      <td>0.00</td>\n",
       "      <td>1764.34</td>\n",
       "      <td>N</td>\n",
       "    </tr>\n",
       "  </tbody>\n",
       "</table>\n",
       "</div>"
      ],
      "text/plain": [
       "  fiscal_year payroll_number                agency_name      last_name  \\\n",
       "0        2023             67  ADMIN FOR CHILDREN'S SVCS        AWOTOYE   \n",
       "1        2023             67  ADMIN FOR CHILDREN'S SVCS          BRAND   \n",
       "2        2023             67  ADMIN FOR CHILDREN'S SVCS          ALLEN   \n",
       "3        2023             67  ADMIN FOR CHILDREN'S SVCS        AWOLOWO   \n",
       "4        2023             67  ADMIN FOR CHILDREN'S SVCS  BENNETT-SIMON   \n",
       "\n",
       "  first_name        agency_start_date work_location_borough  \\\n",
       "0   FLORENCE  1996-06-23T00:00:00.000             MANHATTAN   \n",
       "1    MIKHAIL  1997-02-03T00:00:00.000             MANHATTAN   \n",
       "2    CRYSTAL  1999-09-13T00:00:00.000              BROOKLYN   \n",
       "3    STOYANN  2023-02-27T00:00:00.000              BROOKLYN   \n",
       "4     HALLIE  2021-09-13T00:00:00.000             MANHATTAN   \n",
       "\n",
       "                                 title_description leave_status_as_of_june_30  \\\n",
       "0           CHILD PROTECTIVE SPECIALIST SUPERVISOR                     ACTIVE   \n",
       "1                              COMPUTER SPECIALIST                     CEASED   \n",
       "2                      CHILD PROTECTIVE SPECIALIST                     ACTIVE   \n",
       "3                      CHILD PROTECTIVE SPECIALIST                     ACTIVE   \n",
       "4  PRINCIPAL ADMINISTRATIVE ASSOCIATE -  NON SUPVR                     ACTIVE   \n",
       "\n",
       "  base_salary  pay_basis regular_hours regular_gross_paid ot_hours  \\\n",
       "0    94469.00  per Annum       1820.00           94582.80   460.50   \n",
       "1    91603.00  per Annum          0.00               0.00     0.00   \n",
       "2    66022.00  per Annum       1820.00           66103.17    67.00   \n",
       "3    55463.00  per Annum        560.00           15697.02    41.75   \n",
       "4    61105.00  per Annum       1820.00           60937.50     0.00   \n",
       "\n",
       "  total_ot_paid total_other_pay mid_init  \n",
       "0      31912.10        25792.84      NaN  \n",
       "1          0.00            3.04      NaN  \n",
       "2       2658.28        15366.57      NaN  \n",
       "3       1465.28         3008.25        E  \n",
       "4          0.00         1764.34        N  "
      ]
     },
     "execution_count": 28,
     "metadata": {},
     "output_type": "execute_result"
    }
   ],
   "source": [
    "sample_df."
   ]
  },
  {
   "cell_type": "code",
   "execution_count": null,
   "metadata": {},
   "outputs": [],
   "source": [
    "#get years in dataset\n",
    "years = requests.get(\"https://data.cityofnewyork.us/resource/k397-673e.json?$select=distinct fiscal_year\")\n",
    "years = years.json()\n",
    "years = [i['fiscal_year'] for i in years]\n",
    "years.sort()"
   ]
  },
  {
   "cell_type": "code",
   "execution_count": 67,
   "metadata": {},
   "outputs": [
    {
     "data": {
      "text/plain": [
       "'5662713'"
      ]
     },
     "execution_count": 67,
     "metadata": {},
     "output_type": "execute_result"
    }
   ],
   "source": [
    "data_size"
   ]
  },
  {
   "cell_type": "code",
   "execution_count": 77,
   "metadata": {},
   "outputs": [
    {
     "data": {
      "text/plain": [
       "200"
      ]
     },
     "execution_count": 77,
     "metadata": {},
     "output_type": "execute_result"
    }
   ],
   "source": [
    "response.status_code"
   ]
  },
  {
   "cell_type": "code",
   "execution_count": 83,
   "metadata": {},
   "outputs": [
    {
     "name": "stdout",
     "output_type": "stream",
     "text": [
      "3\n"
     ]
    }
   ],
   "source": [
    "print(3)"
   ]
  },
  {
   "cell_type": "code",
   "execution_count": 125,
   "metadata": {},
   "outputs": [
    {
     "name": "stdout",
     "output_type": "stream",
     "text": [
      "s\n",
      "i\n",
      "m\n",
      "p\n"
     ]
    }
   ],
   "source": [
    "for i in 'simp':\n",
    "    \n",
    "    print(i)"
   ]
  },
  {
   "cell_type": "code",
   "execution_count": 127,
   "metadata": {},
   "outputs": [
    {
     "name": "stdout",
     "output_type": "stream",
     "text": [
      "16\n",
      "2014:rows:300\n",
      "16\n",
      "2015:rows:300\n",
      "16\n",
      "2016:rows:300\n",
      "16\n",
      "2017:rows:300\n",
      "17\n",
      "2018:rows:300\n",
      "17\n",
      "2019:rows:300\n",
      "17\n",
      "2020:rows:300\n",
      "17\n",
      "2021:rows:300\n",
      "17\n",
      "2022:rows:300\n",
      "17\n",
      "2023:rows:300\n"
     ]
    }
   ],
   "source": [
    "for i in years: \n",
    "    #define function variables \n",
    "    url = f\"https://data.cityofnewyork.us/resource/k397-673e.json?$limit={300}&$where=fiscal_year={i}\"\n",
    "    #using dataset size as arbitrary limit\n",
    "    response = requests.get(url)\n",
    "    \n",
    "    if response.status_code != 200:\n",
    "        break \n",
    "        \n",
    "    file_path = f'temp/{i}_data_sample.csv'\n",
    "    #save data to temp folder as csv    \n",
    "    dataframe = pd.DataFrame(response.json())\n",
    "    dataframe.to_csv(file_path, index=False)   \n",
    "    \n",
    "    print(len(dataframe.columns))\n",
    "    print(f'{i}:rows:{len(dataframe)}')\n",
    "    \n",
    "    #stage file in snowflake \n",
    "    #con.cursor().execute(f'PUT file://{file_path}* @%BLUE4')\n",
    "    \n",
    "    #free up memory, clear out variable and delete temp file \n",
    "    dataframe = None\n",
    "    #if os.path.isfile(file_path):\n",
    "     #   os.remove(file_path)\n",
    "    \n",
    "    #\n",
    "    #time.sleep(10)"
   ]
  },
  {
   "cell_type": "code",
   "execution_count": 130,
   "metadata": {},
   "outputs": [
    {
     "ename": "SyntaxError",
     "evalue": "invalid syntax (<ipython-input-130-3e06f7808ddd>, line 1)",
     "output_type": "error",
     "traceback": [
      "\u001b[1;36m  File \u001b[1;32m\"<ipython-input-130-3e06f7808ddd>\"\u001b[1;36m, line \u001b[1;32m1\u001b[0m\n\u001b[1;33m    - column number changes\u001b[0m\n\u001b[1;37m                  ^\u001b[0m\n\u001b[1;31mSyntaxError\u001b[0m\u001b[1;31m:\u001b[0m invalid syntax\n"
     ]
    }
   ],
   "source": [
    "- column number changes \n",
    "need to have that column ready to be set as null when no inserts on it \n",
    "- need to reorder dataframes before saving to make sure order matches table, AND add blank column if does not exist so it matches fully ?\n"
   ]
  },
  {
   "cell_type": "code",
   "execution_count": null,
   "metadata": {},
   "outputs": [],
   "source": []
  },
  {
   "cell_type": "code",
   "execution_count": 117,
   "metadata": {},
   "outputs": [],
   "source": [
    "df16 = pd.read_csv('temp/2015_data_sample.csv')"
   ]
  },
  {
   "cell_type": "code",
   "execution_count": 114,
   "metadata": {},
   "outputs": [],
   "source": [
    "df17 = pd.read_csv('temp/2017_data_sample.csv')"
   ]
  },
  {
   "cell_type": "code",
   "execution_count": 128,
   "metadata": {},
   "outputs": [
    {
     "data": {
      "text/plain": [
       "16"
      ]
     },
     "execution_count": 128,
     "metadata": {},
     "output_type": "execute_result"
    }
   ],
   "source": [
    "len(df16.columns.to_list())"
   ]
  },
  {
   "cell_type": "code",
   "execution_count": 129,
   "metadata": {},
   "outputs": [
    {
     "data": {
      "text/plain": [
       "16"
      ]
     },
     "execution_count": 129,
     "metadata": {},
     "output_type": "execute_result"
    }
   ],
   "source": [
    "len(df17.columns.to_list())"
   ]
  },
  {
   "cell_type": "code",
   "execution_count": 105,
   "metadata": {},
   "outputs": [
    {
     "data": {
      "text/plain": [
       "[]"
      ]
     },
     "execution_count": 105,
     "metadata": {},
     "output_type": "execute_result"
    }
   ],
   "source": [
    "os.listdir('temp/')"
   ]
  },
  {
   "cell_type": "code",
   "execution_count": 107,
   "metadata": {},
   "outputs": [],
   "source": [
    "#include \"/\" at the end of dir path \n",
    "def clear_dir(dir_path): \n",
    "    for i in os.listdir(dir_path):\n",
    "        os.remove(f\"{dir_path}{i}\")\n",
    "    "
   ]
  },
  {
   "cell_type": "code",
   "execution_count": 111,
   "metadata": {},
   "outputs": [],
   "source": [
    "clear_dir('temp/')"
   ]
  },
  {
   "cell_type": "code",
   "execution_count": null,
   "metadata": {},
   "outputs": [],
   "source": []
  }
 ],
 "metadata": {
  "kernelspec": {
   "display_name": "PythonData",
   "language": "python",
   "name": "pythondata"
  },
  "language_info": {
   "codemirror_mode": {
    "name": "ipython",
    "version": 3
   },
   "file_extension": ".py",
   "mimetype": "text/x-python",
   "name": "python",
   "nbconvert_exporter": "python",
   "pygments_lexer": "ipython3",
   "version": "3.7.11"
  }
 },
 "nbformat": 4,
 "nbformat_minor": 4
}
