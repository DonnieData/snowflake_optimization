{
 "cells": [
  {
   "cell_type": "code",
   "execution_count": 2,
   "metadata": {},
   "outputs": [],
   "source": [
    "#import dependencies \n",
    "import pandas as pd \n",
    "import requests \n",
    "import json \n",
    "import snowflake.connector\n",
    "import config \n",
    "import os "
   ]
  },
  {
   "cell_type": "code",
   "execution_count": 3,
   "metadata": {},
   "outputs": [],
   "source": [
    "#cereate connection to specigic database/schema \n",
    "con = snowflake.connector.connect(\n",
    "    user=config.keys['user'],\n",
    "    password=config.keys['password'],\n",
    "    account=config.keys['account'],\n",
    "    warehouse = 'WAREHOUSE_BLUE',\n",
    "    database  = 'DATABASE_BLUE',\n",
    "    schema = 'SCHEMA_BLUE'\n",
    ")"
   ]
  },
  {
   "cell_type": "code",
   "execution_count": 4,
   "metadata": {},
   "outputs": [
    {
     "data": {
      "text/plain": [
       "<snowflake.connector.cursor.SnowflakeCursor at 0x250d1c4a508>"
      ]
     },
     "execution_count": 4,
     "metadata": {},
     "output_type": "execute_result"
    }
   ],
   "source": [
    "create_table_query = (\n",
    "    \"\"\"create or replace TABLE DATABASE_BLUE.SCHEMA_BLUE.BLUE4 (\n",
    "\t\"fiscal_year\" VARCHAR(50),\n",
    "\t\"payroll_number\" VARCHAR(50),\n",
    "\t\"agency_name\" VARCHAR(50),\n",
    "\t\"last_name\" VARCHAR(50),\n",
    "\t\"first_name\" VARCHAR(50),\n",
    "\t\"mid_init\" VARCHAR(50),\n",
    "\t\"agency_start_date\" VARCHAR(50),\n",
    "\t\"work_location_borough\" VARCHAR(50),\n",
    "\t\"title_description\" VARCHAR(50),\n",
    "\t\"leave_status_as_of_june_30\" VARCHAR(50),\n",
    "\t\"base_salary\" VARCHAR(50),\n",
    "\t\"pay_basis\" VARCHAR(50),\n",
    "\t\"regular_hours\" VARCHAR(50),\n",
    "\t\"regular_gross_paid\" VARCHAR(50),\n",
    "\t\"ot_hours\" VARCHAR(50),\n",
    "\t\"total_ot_paid\" VARCHAR(50),\n",
    "\t\"total_other_pay\" VARCHAR(50)\n",
    ");\"\"\" \n",
    ") \n",
    "\n",
    "# execute\n",
    "con.cursor().execute(create_table_query)"
   ]
  },
  {
   "cell_type": "code",
   "execution_count": 11,
   "metadata": {},
   "outputs": [
    {
     "data": {
      "text/plain": [
       "'5662713'"
      ]
     },
     "execution_count": 11,
     "metadata": {},
     "output_type": "execute_result"
    }
   ],
   "source": [
    "#get dataset info for funciton \n",
    "#get row count for dataset \n",
    "data_size = requests.get(\"https://data.cityofnewyork.us/resource/k397-673e.json?$select=count(*)\")\n",
    "data_size.json()\n",
    "data_size = data_size.json()[0]['count']\n",
    "data_size"
   ]
  },
  {
   "cell_type": "code",
   "execution_count": null,
   "metadata": {},
   "outputs": [],
   "source": [
    "#get years in dataset\n",
    "years = requests.get(\"https://data.cityofnewyork.us/resource/k397-673e.json?$select=distinct fiscal_year\")\n",
    "years = years.json()\n",
    "years = [i['fiscal_year'] for i in years]\n",
    "years.sort()"
   ]
  },
  {
   "cell_type": "code",
   "execution_count": 34,
   "metadata": {},
   "outputs": [
    {
     "data": {
      "text/plain": [
       "['2014',\n",
       " '2015',\n",
       " '2016',\n",
       " '2017',\n",
       " '2018',\n",
       " '2019',\n",
       " '2020',\n",
       " '2021',\n",
       " '2022',\n",
       " '2023']"
      ]
     },
     "execution_count": 34,
     "metadata": {},
     "output_type": "execute_result"
    }
   ],
   "source": [
    "years"
   ]
  },
  {
   "cell_type": "code",
   "execution_count": 35,
   "metadata": {},
   "outputs": [
    {
     "data": {
      "text/plain": [
       "10"
      ]
     },
     "execution_count": 35,
     "metadata": {},
     "output_type": "execute_result"
    }
   ],
   "source": [
    "len(years)"
   ]
  },
  {
   "cell_type": "code",
   "execution_count": null,
   "metadata": {},
   "outputs": [],
   "source": [
    "#function to get data \n"
   ]
  },
  {
   "cell_type": "code",
   "execution_count": null,
   "metadata": {},
   "outputs": [],
   "source": [
    "for i in years: \n",
    "    year_filter = i\n",
    "    #define function variables \n",
    "    url = f\"https://data.cityofnewyork.us/resource/k397-673e.json?$limit={data_size}&$where=fiscal_year={year_filter}\")\n",
    "    #using dataset size as arbitrary limit\n",
    "    response = requests.get(url)\n",
    "    \n",
    "    if response.status_code == 200:\n",
    "        continue\n",
    "    else: \n",
    "        break \n",
    "        \n",
    "    dataframe = pd.DataFrame(response.json())\n",
    "    \n",
    "    print (years[i]['fiscal_year'])\n",
    "    \n",
    "    del df data \n",
    "    \n",
    "    #save format \"year\"+ data \n",
    "    #save to temp folder \n",
    "    #delete file and variable after use \n",
    "    \n",
    "    \n",
    "    file_path = f'temp/{test_year}_data.csv'\n",
    "if os.path.isfile(file_path):\n",
    "    os.remove(file_path)\n",
    "    \n",
    "    "
   ]
  }
 ],
 "metadata": {
  "kernelspec": {
   "display_name": "PythonData",
   "language": "python",
   "name": "pythondata"
  },
  "language_info": {
   "codemirror_mode": {
    "name": "ipython",
    "version": 3
   },
   "file_extension": ".py",
   "mimetype": "text/x-python",
   "name": "python",
   "nbconvert_exporter": "python",
   "pygments_lexer": "ipython3",
   "version": "3.7.11"
  }
 },
 "nbformat": 4,
 "nbformat_minor": 4
}
