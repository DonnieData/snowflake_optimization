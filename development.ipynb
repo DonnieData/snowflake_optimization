{
 "cells": [
  {
   "cell_type": "code",
   "execution_count": 2,
   "metadata": {},
   "outputs": [],
   "source": [
    "#import dependencies \n",
    "import pandas as pd \n",
    "import requests \n",
    "import json \n",
    "import snowflake.connector\n",
    "import config \n",
    "import os \n",
    "import time \n",
    "import numpy as np"
   ]
  },
  {
   "cell_type": "code",
   "execution_count": 3,
   "metadata": {},
   "outputs": [],
   "source": [
    "#cereate connection to specigic database/schema \n",
    "con = snowflake.connector.connect(\n",
    "    user=config.keys['user'],\n",
    "    password=config.keys['password'],\n",
    "    account=config.keys['account'],\n",
    "    warehouse = 'WAREHOUSE_BLUE',\n",
    "    database  = 'DATABASE_BLUE',\n",
    "    schema = 'SCHEMA_BLUE'\n",
    ")"
   ]
  },
  {
   "cell_type": "code",
   "execution_count": null,
   "metadata": {},
   "outputs": [],
   "source": []
  },
  {
   "cell_type": "markdown",
   "metadata": {},
   "source": [
    "create_table_query = (\n",
    "    \"\"\"create or replace TABLE DATABASE_BLUE.SCHEMA_BLUE.BLUE4 (\n",
    "\t\"fiscal_year\" VARCHAR(50),\n",
    "\t\"payroll_number\" VARCHAR(50),\n",
    "\t\"agency_name\" VARCHAR(50),\n",
    "\t\"last_name\" VARCHAR(50),\n",
    "\t\"first_name\" VARCHAR(50),\n",
    "\t\"mid_init\" VARCHAR(50),\n",
    "\t\"agency_start_date\" VARCHAR(50),\n",
    "\t\"work_location_borough\" VARCHAR(50),\n",
    "\t\"title_description\" VARCHAR(50),\n",
    "\t\"leave_status_as_of_june_30\" VARCHAR(50),\n",
    "\t\"base_salary\" VARCHAR(50),\n",
    "\t\"pay_basis\" VARCHAR(50),\n",
    "\t\"regular_hours\" VARCHAR(50),\n",
    "\t\"regular_gross_paid\" VARCHAR(50),\n",
    "\t\"ot_hours\" VARCHAR(50),\n",
    "\t\"total_ot_paid\" VARCHAR(50),\n",
    "\t\"total_other_pay\" VARCHAR(50)\n",
    ");\"\"\" \n",
    ") \n",
    "\n",
    "# execute\n",
    "con.cursor().execute(create_table_query)"
   ]
  },
  {
   "cell_type": "code",
   "execution_count": null,
   "metadata": {},
   "outputs": [],
   "source": []
  },
  {
   "cell_type": "code",
   "execution_count": 21,
   "metadata": {},
   "outputs": [
    {
     "data": {
      "text/plain": [
       "[{'count': '5662713'}]"
      ]
     },
     "execution_count": 21,
     "metadata": {},
     "output_type": "execute_result"
    }
   ],
   "source": [
    "#get dataset info for funciton \n",
    "#get row count for dataset \n",
    "r = requests.get(\"https://data.cityofnewyork.us/resource/k397-673e.json?$select=count(*)\")\n",
    "r.json()"
   ]
  },
  {
   "cell_type": "code",
   "execution_count": 23,
   "metadata": {},
   "outputs": [
    {
     "data": {
      "text/plain": [
       "'5662713'"
      ]
     },
     "execution_count": 23,
     "metadata": {},
     "output_type": "execute_result"
    }
   ],
   "source": [
    "#get dataset info for funciton \n",
    "#get row count for dataset \n",
    "data_size = requests.get(\"https://data.cityofnewyork.us/resource/k397-673e.json?$select=count(*)\")\n",
    "data_size.json()\n",
    "data_size = data_sample.json()[0]['count']\n",
    "data_size"
   ]
  },
  {
   "cell_type": "code",
   "execution_count": null,
   "metadata": {},
   "outputs": [],
   "source": [
    "data_sample = requests.get(\"https://data.cityofnewyork.us/resource/k397-673e.json\")"
   ]
  },
  {
   "cell_type": "code",
   "execution_count": null,
   "metadata": {},
   "outputs": [],
   "source": [
    "data_sample = requests.get(\"https://data.cityofnewyork.us/resource/k397-673e.json\")\n",
    "sample_df = pd.DataFrame(data_sample.json())"
   ]
  },
  {
   "cell_type": "code",
   "execution_count": null,
   "metadata": {},
   "outputs": [],
   "source": [
    "#check for missing column , if misisng then addcolumn and leave null"
   ]
  },
  {
   "cell_type": "code",
   "execution_count": 84,
   "metadata": {},
   "outputs": [],
   "source": [
    "df = pd.read_csv('temp/2014_data_sample.csv')"
   ]
  },
  {
   "cell_type": "code",
   "execution_count": 113,
   "metadata": {},
   "outputs": [],
   "source": []
  },
  {
   "cell_type": "markdown",
   "metadata": {},
   "source": [
    "\"fiscal_year\" VARCHAR(50),\n",
    "\t\"payroll_number\" VARCHAR(50),\n",
    "\t\"agency_name\" VARCHAR(50),\n",
    "\t\"last_name\" VARCHAR(50),\n",
    "\t\"first_name\" VARCHAR(50),\n",
    "\t\"mid_init\" VARCHAR(50),\n",
    "\t\"agency_start_date\" VARCHAR(50),\n",
    "\t\"work_location_borough\" VARCHAR(50),\n",
    "\t\"title_description\" VARCHAR(50),\n",
    "\t\"leave_status_as_of_june_30\" VARCHAR(50),\n",
    "\t\"base_salary\" VARCHAR(50),\n",
    "\t\"pay_basis\" VARCHAR(50),\n",
    "\t\"regular_hours\" VARCHAR(50),\n",
    "\t\"regular_gross_paid\" VARCHAR(50),\n",
    "\t\"ot_hours\" VARCHAR(50),\n",
    "\t\"total_ot_paid\" VARCHAR(50),\n",
    "\t\"total_other_pay\" VARCHAR(50)"
   ]
  },
  {
   "cell_type": "code",
   "execution_count": null,
   "metadata": {},
   "outputs": [],
   "source": []
  },
  {
   "cell_type": "code",
   "execution_count": 103,
   "metadata": {},
   "outputs": [],
   "source": [
    "df23 = pd.read_csv('temp/2023_data_sample.csv')"
   ]
  },
  {
   "cell_type": "code",
   "execution_count": 108,
   "metadata": {},
   "outputs": [
    {
     "data": {
      "text/plain": [
       "Index(['fiscal_year', 'payroll_number', 'agency_name', 'last_name',\n",
       "       'first_name', 'mid_init', 'agency_start_date', 'work_location_borough',\n",
       "       'title_description', 'leave_status_as_of_june_30', 'base_salary',\n",
       "       'pay_basis', 'regular_hours', 'regular_gross_paid', 'ot_hours',\n",
       "       'total_ot_paid', 'total_other_pay'],\n",
       "      dtype='object')"
      ]
     },
     "execution_count": 108,
     "metadata": {},
     "output_type": "execute_result"
    }
   ],
   "source": [
    "df23.columns"
   ]
  },
  {
   "cell_type": "code",
   "execution_count": null,
   "metadata": {},
   "outputs": [],
   "source": []
  },
  {
   "cell_type": "code",
   "execution_count": 110,
   "metadata": {},
   "outputs": [
    {
     "data": {
      "text/plain": [
       "17"
      ]
     },
     "execution_count": 110,
     "metadata": {},
     "output_type": "execute_result"
    }
   ],
   "source": [
    "len(cols_order)"
   ]
  },
  {
   "cell_type": "code",
   "execution_count": 67,
   "metadata": {},
   "outputs": [],
   "source": [
    "current_cols = ['fiscal_year', 'payroll_number', 'agency_name', 'last_name',\n",
    "       'first_name', 'mid_init', 'agency_start_date', 'work_location_borough',\n",
    "       'title_description', 'leave_status_as_of_june_30']"
   ]
  },
  {
   "cell_type": "code",
   "execution_count": 111,
   "metadata": {},
   "outputs": [],
   "source": []
  },
  {
   "cell_type": "code",
   "execution_count": 112,
   "metadata": {},
   "outputs": [
    {
     "data": {
      "text/plain": [
       "17"
      ]
     },
     "execution_count": 112,
     "metadata": {},
     "output_type": "execute_result"
    }
   ],
   "source": [
    "len(cols_order)"
   ]
  },
  {
   "cell_type": "code",
   "execution_count": 80,
   "metadata": {},
   "outputs": [
    {
     "data": {
      "text/plain": [
       "['base_salary',\n",
       " 'pay_basis',\n",
       " 'regular_hours',\n",
       " 'regular_gross_paid',\n",
       " 'ot_hours',\n",
       " 'total_ot_paid',\n",
       " 'total_other_pay']"
      ]
     },
     "execution_count": 80,
     "metadata": {},
     "output_type": "execute_result"
    }
   ],
   "source": [
    "\n",
    "missing_cols"
   ]
  },
  {
   "cell_type": "code",
   "execution_count": null,
   "metadata": {},
   "outputs": [],
   "source": [
    "sample_df[match_test]"
   ]
  },
  {
   "cell_type": "code",
   "execution_count": 6,
   "metadata": {},
   "outputs": [],
   "source": [
    "#get years in dataset\n",
    "years = requests.get(\"https://data.cityofnewyork.us/resource/k397-673e.json?$select=distinct fiscal_year\")\n",
    "years = years.json()\n",
    "years = [i['fiscal_year'] for i in years]\n",
    "years.sort()"
   ]
  },
  {
   "cell_type": "code",
   "execution_count": 7,
   "metadata": {},
   "outputs": [
    {
     "data": {
      "text/plain": [
       "['2014',\n",
       " '2015',\n",
       " '2016',\n",
       " '2017',\n",
       " '2018',\n",
       " '2019',\n",
       " '2020',\n",
       " '2021',\n",
       " '2022',\n",
       " '2023']"
      ]
     },
     "execution_count": 7,
     "metadata": {},
     "output_type": "execute_result"
    }
   ],
   "source": [
    "years"
   ]
  },
  {
   "cell_type": "code",
   "execution_count": 127,
   "metadata": {},
   "outputs": [
    {
     "name": "stdout",
     "output_type": "stream",
     "text": [
      "16\n",
      "2014:rows:300\n",
      "16\n",
      "2015:rows:300\n",
      "16\n",
      "2016:rows:300\n",
      "16\n",
      "2017:rows:300\n",
      "17\n",
      "2018:rows:300\n",
      "17\n",
      "2019:rows:300\n",
      "17\n",
      "2020:rows:300\n",
      "17\n",
      "2021:rows:300\n",
      "17\n",
      "2022:rows:300\n",
      "17\n",
      "2023:rows:300\n"
     ]
    }
   ],
   "source": [
    "yearsr i in years[]: \n",
    "    #define function variables \n",
    "    url = f\"https://data.cityofnewyork.us/resource/k397-673e.json?$limit={300}&$where=fiscal_year={i}\"\n",
    "    #using dataset size as arbitrary limit\n",
    "    response = requests.get(url)\n",
    "    \n",
    "    if response.status_code != 200:\n",
    "        break \n",
    "    \n",
    "    #save data to temp folder as csv    \n",
    "    dataframe = pd.DataFrame(response.json())\n",
    "    \n",
    "    file_path = f'temp/{i}_data_sample.csv'\n",
    "    \n",
    "    #define dataframe format /coloumn order \n",
    "    cols_order = ['fiscal_year', 'payroll_number', 'agency_name', 'last_name',\n",
    "       'first_name', 'mid_init', 'agency_start_date', 'work_location_borough',\n",
    "       'title_description', 'leave_status_as_of_june_30', 'base_salary',\n",
    "       'pay_basis', 'regular_hours', 'regular_gross_paid', 'ot_hours',\n",
    "       'total_ot_paid', 'total_other_pay']\n",
    "    \n",
    "    #get current columns and check for #check for missing columns \n",
    "    current_cols = dataframe.columns.to_list()\n",
    "    missing_cols = [i for i in cols_order if i not in current_cols]\n",
    "\n",
    "    if len(missing_c) > 0: \n",
    "        for x in missing_c:\n",
    "            dataframe[x] = np.nan\n",
    "    \n",
    "    print(f'{len(missing_c)} in {i}')    \n",
    "    \n",
    "    #re-order columns \n",
    "    dataframe = dataframe[['fiscal_year', 'payroll_number', 'agency_name', 'last_name',\n",
    "       'first_name', 'mid_init', 'agency_start_date', 'work_location_borough',\n",
    "       'title_description', 'leave_status_as_of_june_30', 'base_salary',\n",
    "       'pay_basis', 'regular_hours', 'regular_gross_paid', 'ot_hours',\n",
    "       'total_ot_paid', 'total_other_pay']]\n",
    "\n",
    "    #save dataframe \n",
    "    dataframe.to_csv(file_path, index=False)   \n",
    "    \n",
    "    print(len(dataframe.columns))\n",
    "    print(f'{i}:rows:{len(dataframe)}')\n",
    "    \n",
    "    #stage file in snowflake \n",
    "    #con.cursor().execute(f'PUT file://{file_path}* @%BLUE4')\n",
    "    \n",
    "    #free up memory, clear out variable and delete temp file \n",
    "    dataframe = None\n",
    "    #if os.path.isfile(file_path):\n",
    "     #   os.remove(file_path)\n",
    "    \n",
    "    #\n",
    "    #time.sleep(10)"
   ]
  },
  {
   "cell_type": "code",
   "execution_count": 130,
   "metadata": {},
   "outputs": [
    {
     "ename": "SyntaxError",
     "evalue": "invalid syntax (<ipython-input-130-3e06f7808ddd>, line 1)",
     "output_type": "error",
     "traceback": [
      "\u001b[1;36m  File \u001b[1;32m\"<ipython-input-130-3e06f7808ddd>\"\u001b[1;36m, line \u001b[1;32m1\u001b[0m\n\u001b[1;33m    - column number changes\u001b[0m\n\u001b[1;37m                  ^\u001b[0m\n\u001b[1;31mSyntaxError\u001b[0m\u001b[1;31m:\u001b[0m invalid syntax\n"
     ]
    }
   ],
   "source": [
    "- column number changes \n",
    "need to have that column ready to be set as null when no inserts on it \n",
    "- need to reorder dataframes before saving to make sure order matches table, AND add blank column if does not exist so it matches fully ?\n"
   ]
  },
  {
   "cell_type": "code",
   "execution_count": null,
   "metadata": {},
   "outputs": [],
   "source": []
  },
  {
   "cell_type": "code",
   "execution_count": 117,
   "metadata": {},
   "outputs": [],
   "source": [
    "df16 = pd.read_csv('temp/2015_data_sample.csv')"
   ]
  },
  {
   "cell_type": "code",
   "execution_count": 114,
   "metadata": {},
   "outputs": [],
   "source": [
    "df17 = pd.read_csv('temp/2017_data_sample.csv')"
   ]
  },
  {
   "cell_type": "code",
   "execution_count": 128,
   "metadata": {},
   "outputs": [
    {
     "data": {
      "text/plain": [
       "16"
      ]
     },
     "execution_count": 128,
     "metadata": {},
     "output_type": "execute_result"
    }
   ],
   "source": [
    "len(df16.columns.to_list())"
   ]
  },
  {
   "cell_type": "code",
   "execution_count": 129,
   "metadata": {},
   "outputs": [
    {
     "data": {
      "text/plain": [
       "16"
      ]
     },
     "execution_count": 129,
     "metadata": {},
     "output_type": "execute_result"
    }
   ],
   "source": [
    "len(df17.columns.to_list())"
   ]
  },
  {
   "cell_type": "code",
   "execution_count": 105,
   "metadata": {},
   "outputs": [
    {
     "data": {
      "text/plain": [
       "[]"
      ]
     },
     "execution_count": 105,
     "metadata": {},
     "output_type": "execute_result"
    }
   ],
   "source": [
    "os.listdir('temp/')"
   ]
  },
  {
   "cell_type": "code",
   "execution_count": 8,
   "metadata": {},
   "outputs": [],
   "source": [
    "#include \"/\" at the end of dir path \n",
    "def clear_dir(dir_path): \n",
    "    for i in os.listdir(dir_path):\n",
    "        os.remove(f\"{dir_path}{i}\")\n",
    "    "
   ]
  },
  {
   "cell_type": "code",
   "execution_count": 12,
   "metadata": {},
   "outputs": [],
   "source": [
    "clear_dir('temp/')"
   ]
  },
  {
   "cell_type": "code",
   "execution_count": 13,
   "metadata": {},
   "outputs": [],
   "source": [
    " for i in os.listdir('temp/'):\n",
    "        os.remove(f\"{'temp/'}{i}\")"
   ]
  },
  {
   "cell_type": "code",
   "execution_count": null,
   "metadata": {},
   "outputs": [],
   "source": []
  }
 ],
 "metadata": {
  "kernelspec": {
   "display_name": "PythonData",
   "language": "python",
   "name": "pythondata"
  },
  "language_info": {
   "codemirror_mode": {
    "name": "ipython",
    "version": 3
   },
   "file_extension": ".py",
   "mimetype": "text/x-python",
   "name": "python",
   "nbconvert_exporter": "python",
   "pygments_lexer": "ipython3",
   "version": "3.7.11"
  }
 },
 "nbformat": 4,
 "nbformat_minor": 4
}
